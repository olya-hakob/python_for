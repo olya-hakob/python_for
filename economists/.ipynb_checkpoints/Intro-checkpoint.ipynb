{
 "cells": [
  {
   "cell_type": "markdown",
   "id": "5975cc88",
   "metadata": {},
   "source": [
    "Դիտարկենք հետևյալ պարզ խնդիրը․ գործատուն որոշել է աշխատողների աշխատավարձը բարձրացնել 5%-ով, և անհրաժեշտ է հաշվել նոր աշխատավարձը։ Մաթեմատիկորեն այս խնդիրը կարելի է արտահայտել հետևյալ կերպ՝\n",
    "\n",
    "եթե նշանակենք հին աշխատավարձը x-ով, իսկ նորը՝ y-ով, ապա y = x+(x*5)/100։ \n",
    "\n",
    "x-ը և y-ը փոփոխականներ են, որոնք կարող են ընդունել տարբեր արժեքներ, բայց դրանից վերջիններիս հարաբերությունը չի փոխվում։ \n",
    "\n",
    "Սա կարող ենք արտահայտել նաև Python-ում, x-ին տարբեր արժեքներ տալով։ Փոփոխականների նշանակումը Python-ում շատ հեշտ է, օրինակ՝"
   ]
  },
  {
   "cell_type": "code",
   "execution_count": 1,
   "id": "24e91fac",
   "metadata": {},
   "outputs": [],
   "source": [
    "# Այս նշանն օգտագործվում է նշումներ անելու համար, որպեսզի կարդացողին պարզ լինի կոդը\n",
    "x = 100  # հին աշխատավարձ\n",
    "y = x+(x*5)/100 # նոր աշխատավարձ"
   ]
  },
  {
   "cell_type": "markdown",
   "id": "07105d6a",
   "metadata": {},
   "source": [
    "Այժմ մենք հաշվել ենք նոր աշխատավարձը, սակայն նրանց արժեքները չեն երևում։ Այստեղ մեզ օգնության է հասնում Python-ի print ֆունկցիան, ուղղակի անհրաժեշտ է մեզ հետաքրքրող փոփոխականը տեղադրել փակագծերի մեջ\n"
   ]
  },
  {
   "cell_type": "code",
   "execution_count": 2,
   "id": "e2bc6053",
   "metadata": {},
   "outputs": [
    {
     "name": "stdout",
     "output_type": "stream",
     "text": [
      "105.0\n"
     ]
    }
   ],
   "source": [
    "print(y)"
   ]
  },
  {
   "cell_type": "markdown",
   "id": "374a53cb",
   "metadata": {},
   "source": [
    "Կարող ենք տպել նաև ցանկացած տեքստ՝ վերջինս տեղադրելով հետևյալ նշանների միջև՝ "
   ]
  },
  {
   "cell_type": "code",
   "execution_count": 3,
   "id": "67d92ad6",
   "metadata": {},
   "outputs": [
    {
     "name": "stdout",
     "output_type": "stream",
     "text": [
      "y\n",
      "y\n"
     ]
    }
   ],
   "source": [
    "print('y')\n",
    "print(\"y\")"
   ]
  },
  {
   "cell_type": "markdown",
   "id": "689616da",
   "metadata": {},
   "source": [
    "Կարող ենք նաև համատեղել տեքստի ու փոփոխականների տպումը: Անհրաժեշտ է փոփոխականը ներառել ձևավոր փակագծերի մեջ և տեքստից  առաջ դնել f տառը՝  "
   ]
  },
  {
   "cell_type": "code",
   "execution_count": 4,
   "id": "af5eb694",
   "metadata": {},
   "outputs": [
    {
     "name": "stdout",
     "output_type": "stream",
     "text": [
      "Նոր աշխատավարձը 105.0 է\n"
     ]
    }
   ],
   "source": [
    "print(f'Նոր աշխատավարձը {y} է')"
   ]
  },
  {
   "cell_type": "markdown",
   "id": "68a816c2",
   "metadata": {},
   "source": [
    "Այժմ մենք ավելի շատ ինֆորմացիա ունենք, բայց չգիտենք, թե աշխատավարձը ինչ արժույթով է հաշվվում։ Python-ում փոփոխականներն\n",
    "օգտագործվում են ոչ միայն մաթեմատիկական հավասարումներ լուծելու, այլև ցանկացած ինֆորմացիա պահպանելու համար։ Օրինակ, \n",
    "կարող ենք նոր փոփոխական ստեղծել,  որտեղ կպահպանենք մեզ հետաքրքրող արժույթը։\n",
    "\n",
    "Խորհուրդ է տրվում փոփոխականների անուններ ընտրելիս հնարավորինս ինֆորմատիվ անուններ մտածել, օրինակ՝ "
   ]
  },
  {
   "cell_type": "code",
   "execution_count": 5,
   "id": "56dda6b8",
   "metadata": {},
   "outputs": [
    {
     "name": "stdout",
     "output_type": "stream",
     "text": [
      "arjuyt փոփոխականի տեսակը՝ <class 'str'>\n"
     ]
    }
   ],
   "source": [
    "hin = 100 # հին աշխատավարձ\n",
    "nor = hin+(hin*10)/100 # նոր աշխատավարձ\n",
    "arjuyt = '$' # սա տեքստային փոփոխական է, որ կոչվում է string, կարճ՝ str\n",
    "print(f'arjuyt փոփոխականի տեսակը՝ {type(arjuyt)}')"
   ]
  },
  {
   "cell_type": "markdown",
   "id": "01aa69fc",
   "metadata": {},
   "source": [
    "# Առաջադրանք \n",
    "տպել հետևյալ արտահայտությունը՝ **Ձեր աշխատավարձը  100\\\\$-ից դարձել է 110\\\\$ օգտագործելով վերը նշված փոփոխականները աշխատավարձի չափի ու արժույթի համար (5 րոպե)**"
   ]
  },
  {
   "cell_type": "code",
   "execution_count": null,
   "id": "e1baadf6",
   "metadata": {},
   "outputs": [],
   "source": []
  },
  {
   "cell_type": "markdown",
   "id": "05916417",
   "metadata": {},
   "source": [
    "Python-ի կարևոր գործիքներից մեկը if statement-ներն են։ Սրանք օգտագործելիս որոշակի գործողություն կատարվում է, եթե տրված պայմանը բավարաված է, օրինակ՝\n"
   ]
  },
  {
   "cell_type": "code",
   "execution_count": 6,
   "id": "e0ac3f25",
   "metadata": {},
   "outputs": [
    {
     "name": "stdout",
     "output_type": "stream",
     "text": [
      "Ձեր աշխատավարձը բարձրացել է\n"
     ]
    }
   ],
   "source": [
    "if hin == nor:\n",
    "    print ('Ձեր աշխատավարձը չի բարձրացել')\n",
    "elif hin > nor:\n",
    "    print('Ձեր աշխատավարձը նվազել է')\n",
    "else:\n",
    "    print('Ձեր աշխատավարձը բարձրացել է')"
   ]
  },
  {
   "cell_type": "code",
   "execution_count": 6,
   "id": "584d89ae",
   "metadata": {},
   "outputs": [],
   "source": [
    "koleganer = ['Արմեն','Անուշ','Լիլիթ','Կարեն','Անի']"
   ]
  },
  {
   "cell_type": "code",
   "execution_count": null,
   "id": "015d328f",
   "metadata": {},
   "outputs": [],
   "source": [
    "import random\n",
    "bonus = random.choice(koleganer)"
   ]
  },
  {
   "cell_type": "code",
   "execution_count": null,
   "id": "83337691",
   "metadata": {},
   "outputs": [],
   "source": [
    "anun = input('Ձեր անու՞նը ')\n",
    "if anun == bonus: \n",
    "    print('Շնորհավորում ենք, Ձեր աշխատավարձը բարձրացել է')\n",
    "elif anun not in koleganer:\n",
    "    print('Դուք մեզ մոտ չեք աշխատում')\n",
    "else:\n",
    "    print('Ձեր աշխատավարձը չի փոխվել')"
   ]
  },
  {
   "cell_type": "markdown",
   "id": "589b8ced",
   "metadata": {},
   "source": [
    "# Առաջադրանք \n",
    "\n",
    "Ստեղծել ՉինգաՉունգ խաղի սիմուլացիա համակարգչի հետ\n",
    "\n",
    "Քայլեր՝  \n",
    "1․ Խաղացողը ներմուծում է իր քայլը\n",
    "\n",
    "2․ Համակարգիչն ընտրում է հնարավոր քայլերից մեկը\n",
    "\n",
    "3․ Տպում եք, թե ով է հաղթել\n",
    "\n",
    "5․ Եթե խաղացողը ներմուծում է ՛ստոպ՛ խաղն ավարտվում է\n"
   ]
  },
  {
   "cell_type": "code",
   "execution_count": 6,
   "id": "9045def9",
   "metadata": {},
   "outputs": [
    {
     "name": "stdout",
     "output_type": "stream",
     "text": [
      "Ձեր քայլը՝ թուղթ, քար թե՞ մկրատ քար\n"
     ]
    }
   ],
   "source": [
    "player = input('Ձեր քայլը՝ թուղթ, քար թե՞ մկրատ ')"
   ]
  },
  {
   "cell_type": "code",
   "execution_count": 7,
   "id": "0a5fe555",
   "metadata": {},
   "outputs": [],
   "source": [
    "import random\n",
    "computer = random.choice(['թուղթ','քար','մկրատ'])"
   ]
  },
  {
   "cell_type": "code",
   "execution_count": 8,
   "id": "e16f587d",
   "metadata": {},
   "outputs": [
    {
     "ename": "SyntaxError",
     "evalue": "invalid syntax (1938107815.py, line 5)",
     "output_type": "error",
     "traceback": [
      "\u001b[0;36m  File \u001b[0;32m\"/tmp/ipykernel_73101/1938107815.py\"\u001b[0;36m, line \u001b[0;32m5\u001b[0m\n\u001b[0;31m    if computer = 'մկրատ':\u001b[0m\n\u001b[0m                ^\u001b[0m\n\u001b[0;31mSyntaxError\u001b[0m\u001b[0;31m:\u001b[0m invalid syntax\n"
     ]
    }
   ],
   "source": [
    "if player == computer:\n",
    "    print(f'Ոչ ոքի {player}-{computer}')\n",
    "else:\n",
    "    if player == 'թուղթ':\n",
    "       if computer ==  'մկրատ':\n",
    "           print(f'Հաղթում է համակարգիչը՝ {player}-{computer}')\n",
    "       else: \n",
    "            print(f'Հաղթում եք Դուք՝ {player}-{computer}')\n",
    "    elif player == 'մկրատ':\n",
    "         if computer == 'քար':\n",
    "            print(f'Հաղթում է համակարգիչը՝ {player}-{computer}')\n",
    "         else: \n",
    "            print(f'Հաղթում եք Դուք՝ {player}-{computer}')\n",
    "    elif player == 'քար':\n",
    "        if computer == 'թուղթ':\n",
    "           print(f'Հաղթում է համակարգիչը՝ {player}-{computer}')\n",
    "        else: \n",
    "            print(f'Հաղթում եք Դուք՝ {player}-{computer}')\n",
    "\n",
    "    \n",
    "            \n",
    "    "
   ]
  },
  {
   "cell_type": "code",
   "execution_count": null,
   "id": "0b014cc0",
   "metadata": {},
   "outputs": [],
   "source": []
  }
 ],
 "metadata": {
  "kernelspec": {
   "display_name": "Python 3 (ipykernel)",
   "language": "python",
   "name": "python3"
  },
  "language_info": {
   "codemirror_mode": {
    "name": "ipython",
    "version": 3
   },
   "file_extension": ".py",
   "mimetype": "text/x-python",
   "name": "python",
   "nbconvert_exporter": "python",
   "pygments_lexer": "ipython3",
   "version": "3.9.7"
  },
  "varInspector": {
   "cols": {
    "lenName": 16,
    "lenType": 16,
    "lenVar": 40
   },
   "kernels_config": {
    "python": {
     "delete_cmd_postfix": "",
     "delete_cmd_prefix": "del ",
     "library": "var_list.py",
     "varRefreshCmd": "print(var_dic_list())"
    },
    "r": {
     "delete_cmd_postfix": ") ",
     "delete_cmd_prefix": "rm(",
     "library": "var_list.r",
     "varRefreshCmd": "cat(var_dic_list()) "
    }
   },
   "position": {
    "height": "243.85px",
    "left": "1171.33px",
    "right": "20px",
    "top": "119px",
    "width": "350px"
   },
   "types_to_exclude": [
    "module",
    "function",
    "builtin_function_or_method",
    "instance",
    "_Feature"
   ],
   "window_display": true
  }
 },
 "nbformat": 4,
 "nbformat_minor": 5
}
