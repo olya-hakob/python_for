{
 "cells": [
  {
   "cell_type": "markdown",
   "id": "f494558d",
   "metadata": {},
   "source": [
    "Նախորդ դասի ընթացքում սովորեցինք թարմացնել փոփոխականի արժեքը՝ հին աշխատավարձի հիման վրա նորը հաշվելով՝ \n",
    "\n",
    "new_salary = old_salary+(old_salary*10)/100 # նոր աշխատավարձ\n",
    "\n",
    "Ամեն անգամ նույն արտահայտությունը տպելը և՛ ձանձրալի է, և՛ կարող է չնախատեսված սխալների հանգեցնել անուշադրության դեպքում։ Նման խնդիրներից խուսափելու համար կարող ենք օգտագործել ֆունկցիաներ։"
   ]
  },
  {
   "cell_type": "code",
   "execution_count": 4,
   "id": "212996ad",
   "metadata": {},
   "outputs": [
    {
     "name": "stdout",
     "output_type": "stream",
     "text": [
      "110.0\n"
     ]
    }
   ],
   "source": [
    "def salary_update(old_salary,raise_percentage):\n",
    "    return old_salary+(old_salary*raise_percentage)/100\n",
    "new_salary = salary_update(100,10)\n",
    "print(new_salary)"
   ]
  },
  {
   "cell_type": "markdown",
   "id": "f3c7405c",
   "metadata": {},
   "source": [
    "Կարող ենք գրել նաև ֆունկցիա, որը կհաշվի տվյալ list-ի միջին արժեքը՝"
   ]
  },
  {
   "cell_type": "code",
   "execution_count": null,
   "id": "d11253d4",
   "metadata": {},
   "outputs": [],
   "source": [
    "def mean(x):\n",
    "    x_sum = 0\n",
    "    for item in x:\n",
    "        x_sum = x_sum+item\n",
    "        \n",
    "        "
   ]
  }
 ],
 "metadata": {
  "kernelspec": {
   "display_name": "Python 3 (ipykernel)",
   "language": "python",
   "name": "python3"
  },
  "language_info": {
   "codemirror_mode": {
    "name": "ipython",
    "version": 3
   },
   "file_extension": ".py",
   "mimetype": "text/x-python",
   "name": "python",
   "nbconvert_exporter": "python",
   "pygments_lexer": "ipython3",
   "version": "3.9.7"
  }
 },
 "nbformat": 4,
 "nbformat_minor": 5
}
