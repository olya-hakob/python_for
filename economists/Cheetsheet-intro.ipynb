{
 "cells": [
  {
   "cell_type": "code",
   "execution_count": 2,
   "id": "7feb40fb",
   "metadata": {},
   "outputs": [
    {
     "name": "stdout",
     "output_type": "stream",
     "text": [
      "10\n",
      "y\n"
     ]
    }
   ],
   "source": [
    "y = 10 # փոփոխականի նշանակում\n",
    "print(y) # փոփոխականի տպում"
   ]
  },
  {
   "cell_type": "code",
   "execution_count": 3,
   "id": "966b7dff",
   "metadata": {},
   "outputs": [
    {
     "name": "stdout",
     "output_type": "stream",
     "text": [
      "y\n"
     ]
    }
   ],
   "source": [
    "print('y') # տեքստի տպում"
   ]
  },
  {
   "cell_type": "code",
   "execution_count": 5,
   "id": "8d873b82",
   "metadata": {},
   "outputs": [
    {
     "name": "stdout",
     "output_type": "stream",
     "text": [
      "y\n"
     ]
    }
   ],
   "source": [
    "y = 'y'\n",
    "print(y) # տեքստային փոփոխականի տպում"
   ]
  },
  {
   "cell_type": "code",
   "execution_count": 7,
   "id": "58a4747f",
   "metadata": {},
   "outputs": [
    {
     "name": "stdout",
     "output_type": "stream",
     "text": [
      "y-ի արժեքը  10 է\n",
      "y-ի տեսակը  <class 'int'> է\n"
     ]
    }
   ],
   "source": [
    "y = 10\n",
    "print(f'y-ի արժեքը  {y} է')\n",
    "print(f'y-ի տեսակը  {type(y)} է')\n"
   ]
  },
  {
   "cell_type": "code",
   "execution_count": null,
   "id": "5a414c9f",
   "metadata": {},
   "outputs": [],
   "source": []
  }
 ],
 "metadata": {
  "kernelspec": {
   "display_name": "Python 3 (ipykernel)",
   "language": "python",
   "name": "python3"
  },
  "language_info": {
   "codemirror_mode": {
    "name": "ipython",
    "version": 3
   },
   "file_extension": ".py",
   "mimetype": "text/x-python",
   "name": "python",
   "nbconvert_exporter": "python",
   "pygments_lexer": "ipython3",
   "version": "3.9.7"
  }
 },
 "nbformat": 4,
 "nbformat_minor": 5
}
