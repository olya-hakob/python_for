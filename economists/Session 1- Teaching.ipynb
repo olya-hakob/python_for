{
 "cells": [
  {
   "cell_type": "markdown",
   "id": "b4a5871d",
   "metadata": {},
   "source": [
    "Դիտարկենք հետևյալ պարզ խնդիրը․ գործատուն որոշել է աշխատողների աշխատավարձը բարձրացնել 10%-ով, և անհրաժեշտ է հաշվել նոր աշխատավարձը։ Մաթեմատիկորեն այս խնդիրը կարելի է արտահայտել հետևյալ կերպ՝\n",
    "\n",
    "եթե նշանակենք հին աշխատավարձը x-ով, իսկ նորը՝ y-ով, ապա y = x+(x*10)/100։ \n",
    "\n",
    "x-ը և y-ը փոփոխականներ են, որոնք կարող են ընդունել տարբեր արժեքներ, բայց դրանից վերջիններիս հարաբերությունը չի փոխվում։ \n",
    "\n",
    "Սա կարող ենք արտահայտել նաև Python-ում, x-ին տարբեր արժեքներ տալով։ Փոփոխականների նշանակումը Python-ում շատ հեշտ է, օրինակ՝"
   ]
  },
  {
   "cell_type": "code",
   "execution_count": 3,
   "id": "34be1451",
   "metadata": {},
   "outputs": [],
   "source": [
    "# Այս նշանն օգտագործվում է նշումներ անելու համար, որպեսզի կարդացողին պարզ լինի կոդը\n",
    "x = 100  # հին աշխատավարձ\n",
    "y = x+(x*10)/100 # նոր աշխատավարձ"
   ]
  },
  {
   "cell_type": "markdown",
   "id": "b99726fe",
   "metadata": {},
   "source": [
    "Այժմ մենք հաշվել ենք նոր աշխատավարձը, սակայն նրանց արժեքները չեն երևում։ Այստեղ մեզ օգնության է հասնում Python-ի print ֆունկցիան, ուղղակի անհրաժեշտ է մեզ հետաքրքրող փոփոխականը տեղադրել փակագծերի մեջ\n"
   ]
  },
  {
   "cell_type": "code",
   "execution_count": 4,
   "id": "dbd1e9c5",
   "metadata": {},
   "outputs": [
    {
     "name": "stdout",
     "output_type": "stream",
     "text": [
      "110.0\n"
     ]
    }
   ],
   "source": [
    "print(y)"
   ]
  },
  {
   "cell_type": "markdown",
   "id": "6cb9e981",
   "metadata": {},
   "source": [
    "Կարող ենք տպել նաև ցանկացած տեքստ՝ վերջինս տեղադրելով հետևյալ նշանների միջև՝ "
   ]
  },
  {
   "cell_type": "code",
   "execution_count": 5,
   "id": "8f79d5a0",
   "metadata": {},
   "outputs": [
    {
     "name": "stdout",
     "output_type": "stream",
     "text": [
      "y\n",
      "y\n"
     ]
    }
   ],
   "source": [
    "print('y')\n",
    "print(\"y\")"
   ]
  },
  {
   "cell_type": "markdown",
   "id": "281b4e23",
   "metadata": {},
   "source": [
    "Կարող ենք նաև համատեղել տեքստի ու փոփոխականների տպումը: Անհրաժեշտ է փոփոխականը ներառել ձևավոր փակագծերի մեջ և տեքստից  առաջ դնել f տառը  "
   ]
  },
  {
   "cell_type": "code",
   "execution_count": 6,
   "id": "e8da8114",
   "metadata": {},
   "outputs": [
    {
     "name": "stdout",
     "output_type": "stream",
     "text": [
      "Նոր աշխատավարձը 110.0 է\n"
     ]
    }
   ],
   "source": [
    "print(f'Նոր աշխատավարձը {y} է')"
   ]
  },
  {
   "cell_type": "markdown",
   "id": "1490778c",
   "metadata": {},
   "source": [
    "Այժմ մենք ավելի շատ ինֆորմացիա ունենք, բայց չգիտենք, թե աշխատավարձը ինչ արժույթով է հաշվվում։ Python-ում փոփոխականներն\n",
    "օգտագործվում են ոչ միայն մաթեմատիկական հավասարումներ լուծելու, այլև ցանկացած ինֆորմացիա պահպանելու համար։ Օրինակ, \n",
    "կարող ենք նոր փոփոխական ստեղծել,  որտեղ կպահպանենք մեզ հետաքրքրող արժույթը։\n",
    "\n",
    "Խորհուրդ է տրվում փոփոխականների անուններ ընտրելիս հնարավորինս ինֆորմատիվ անուններ մտածել, օրինակ՝ "
   ]
  },
  {
   "cell_type": "code",
   "execution_count": 9,
   "id": "6fd39796",
   "metadata": {},
   "outputs": [
    {
     "name": "stdout",
     "output_type": "stream",
     "text": [
      "currency փոփոխականի տեսակը՝ <class 'str'>\n"
     ]
    }
   ],
   "source": [
    "old_salary = 100 # հին աշխատավարձ\n",
    "new_salary = old_salary+(old_salary*10)/100 # նոր աշխատավարձ\n",
    "currency = '$' # սա տեքստային փոփոխական է, որ կոչվում է string, կարճ՝ str\n",
    "print(f'currency փոփոխականի տեսակը՝ {type(currency)}')"
   ]
  },
  {
   "cell_type": "markdown",
   "id": "0d6b4d2a",
   "metadata": {},
   "source": [
    "# Առաջադրանք"
   ]
  },
  {
   "cell_type": "markdown",
   "id": "93f46852",
   "metadata": {},
   "source": [
    "տպել հետևյալ արտահայտությունը՝ **Ձեր աշխատավարձը  100\\\\$-ից դարձել է 110\\\\$ օգտագործելով վերը նշված փոփոխականները աշխատավարձի չափի ու արժույթի համար (5 րոպե)**"
   ]
  },
  {
   "cell_type": "code",
   "execution_count": 17,
   "id": "fff5b505",
   "metadata": {},
   "outputs": [
    {
     "name": "stdout",
     "output_type": "stream",
     "text": [
      "\n"
     ]
    }
   ],
   "source": [
    "print()"
   ]
  },
  {
   "cell_type": "markdown",
   "id": "05f5d020",
   "metadata": {},
   "source": [
    "Այս օրինակով մենք հաշվեցինք մի մարդու աշխատավարձը։ Մենք կարող ենք տարբեր մարդկանց աշխատավարձերը հավաքել մեկ փոփոխականի մեջ, օրինակ՝  list-երի օգնությամբ։ list թարգմանաբար նշանակում է ցուցակ և օգտագործվում է տարբեր արժեքներ մեկ փոփոխականով պահպանելու համար։"
   ]
  },
  {
   "cell_type": "code",
   "execution_count": 10,
   "id": "0dc5ec2d",
   "metadata": {},
   "outputs": [
    {
     "name": "stdout",
     "output_type": "stream",
     "text": [
      "old_salaries փոփոխականը պարունակում է 8 էլեմենտ\n"
     ]
    }
   ],
   "source": [
    "old_salaries = [100,120,140,150,160,500,900,1500]\n",
    "print(f'old_salaries փոփոխականը պարունակում է {len(old_salaries)} էլեմենտ') # հաշվել ու տպել list-ի երկարությունը, անգլ․ len(gth)՝ երկարություն բառից"
   ]
  },
  {
   "cell_type": "code",
   "execution_count": 11,
   "id": "684a6ff7",
   "metadata": {},
   "outputs": [
    {
     "name": "stdout",
     "output_type": "stream",
     "text": [
      "100\n"
     ]
    }
   ],
   "source": [
    "first = old_salaries[0] # տեսնել առաջին էլեմենտը\n",
    "print(first)"
   ]
  },
  {
   "cell_type": "code",
   "execution_count": 13,
   "id": "d5ab97d6",
   "metadata": {},
   "outputs": [],
   "source": [
    "first_new = old_salaries[0]+(old_salaries[0]*10)/100\n",
    "second_new = old_salaries[1]+(old_salaries[1]*10)/100"
   ]
  },
  {
   "cell_type": "markdown",
   "id": "77333725",
   "metadata": {},
   "source": [
    "for **i** in **list**: \n",
    "    **do something**"
   ]
  },
  {
   "cell_type": "code",
   "execution_count": 15,
   "id": "1be00ded",
   "metadata": {},
   "outputs": [
    {
     "name": "stdout",
     "output_type": "stream",
     "text": [
      "1\n",
      "2\n",
      "3\n",
      "4\n"
     ]
    }
   ],
   "source": [
    "for i in [1,2,3,4]:\n",
    "    print (i)"
   ]
  },
  {
   "cell_type": "markdown",
   "id": "ad135ca4",
   "metadata": {},
   "source": [
    "Դիցուք ցանկանում ենք հաշվել այս բոլոր մարդկանց նոր աշխատավարձերը։ Այստեղ մեզ օգնության են գալիս ցիկլերը, կամ այսպես կոչված for loop-երը, որոնք ունեն հետևյալ տեսքը։"
   ]
  },
  {
   "cell_type": "code",
   "execution_count": null,
   "id": "d6b27035",
   "metadata": {},
   "outputs": [],
   "source": [
    "for old in old_salaries: # հերթով դիտարկել old_salaries-ի էլեմենտները\n",
    "    print(f'այս ցիկլում old={old}')\n",
    "    new = old +(old*10)/100 # հաշվել նոր աշխատավարձը\n"
   ]
  },
  {
   "cell_type": "code",
   "execution_count": null,
   "id": "c6972bfb",
   "metadata": {},
   "outputs": [],
   "source": [
    "new_salaries = [] # դատարկ list որտեղ պահպանելու ենք նոր աշխատավարձերը\n",
    "for old in old_salaries: # հերթով դիտարկել old_salaries-ի էլեմենտները\n",
    "    print(f'այս ցիկլում old={old}')\n",
    "    new = old +(old*10)/100 # հաշվել նոր աշխատավարձը\n",
    "    new_salaries.append(new) #append նշանակում է կցել, նոր արժեքը կցվում է հատկացված list-ին\n",
    "    print(new_salaries)\n",
    "#   new_salaries.append(old +(old*10)/100)"
   ]
  },
  {
   "cell_type": "markdown",
   "id": "e2308b5c",
   "metadata": {},
   "source": [
    "Ինչպես տեսնում եք, որոշ մարդկանց աշխատավարձերն այս օրինակում ավելի շատ են, քան մյուսներինը։ Ենթադրենք, մեզ հետքրքրում են համեմատաբար ցածր աշխատավարձ ունեցողների տվյալները։ Սրանք ֆիլտրելու համար կարող ենք օգտագործել այսպես կոչված if statement-ներ կամ այլ կերպ ասած պայմաններ։ "
   ]
  },
  {
   "cell_type": "code",
   "execution_count": 16,
   "id": "de426933",
   "metadata": {},
   "outputs": [],
   "source": [
    "low = []\n",
    "for old in old_salaries:\n",
    "    if old < 200:\n",
    "        low.append(old)\n"
   ]
  },
  {
   "cell_type": "markdown",
   "id": "4f8facb5",
   "metadata": {},
   "source": [
    "if condition1:\n",
    "    do something\n",
    "elif condition2:\n",
    "    do something else\n",
    "else:\n",
    "    do something completely dif"
   ]
  },
  {
   "cell_type": "code",
   "execution_count": null,
   "id": "ef103dec",
   "metadata": {},
   "outputs": [],
   "source": [
    "low = [] # դատարկ list որտեղ պահպանելու ենք ցածր աշխատավարձերը\n",
    "middle = [] # դատարկ list որտեղ պահպանելու ենք միջին աշխատավարձերը\n",
    "high = [] # դատարկ list որտեղ պահպանելու ենք բարձր աշխատավարձերը\n",
    "\n",
    "for salary in old_salaries: # հերթով դիտարկել old_salaries-ի էլեմենտները\n",
    "    new_salary = salary +(salary*10)/100 #  հաշվել նոր աշխատավարձը\n",
    "    if salary < 500: # եթե\n",
    "        low_salaries.append(new_salary) #append նշանակում է կցել, նոր արժեքը կցվում է հատկացված list-ին\n",
    "    elif 500<salary<1000: # իսկ եթե\n",
    "        middle_salaries.append(new_salary)\n",
    "    else: # մնացած բոլոր դեպքերում \n",
    "        high_salaries.append(new_salary)"
   ]
  },
  {
   "cell_type": "code",
   "execution_count": null,
   "id": "95e1f691",
   "metadata": {},
   "outputs": [],
   "source": [
    "new_salaries = low_salaries+middle_salaries+high_salaries"
   ]
  },
  {
   "cell_type": "markdown",
   "id": "c792d2ca",
   "metadata": {},
   "source": [
    "Առաջադրանք՝ \n",
    "- Փոփոխել ու լրացնել հետևյալ կոդն այնպես, որ ցածր աշխատավարձ ունեցող աշխատողների աշխատավարձը աճի 20, միջին աշխատավարձ ունեցողներինը՝ 10, իսկ բարձր աշխատավարձ ունեցողներինը՝ 5 տոկոսով։\n",
    "- Տպել, թե քանի աշխատող կա յուրաքանչյուր կատեգորիայում։\n",
    "- Հաշվել ու տպել ամեն կատեգորիայի աշխատողների նոր աշխատավարձի միջինը։ **Հուշում՝ միջինը հաշվելու համար անհրաժեշտ է գումարել բոլոր  էլեմենտների արժեքներն ու բաժանել էլեմենտների քանակին։**"
   ]
  },
  {
   "cell_type": "code",
   "execution_count": 4,
   "id": "c42426b5",
   "metadata": {},
   "outputs": [],
   "source": [
    "low_salaries = [] # դատարկ list որտեղ պահպանելու ենք ցածր աշխատավարձերը\n",
    "middle_salaries = [] # դատարկ list որտեղ պահպանելու ենք միջին աշխատավարձերը\n",
    "high_salaries = [] # դատարկ list որտեղ պահպանելու ենք բարձր աշխատավարձերը\n",
    "for salary in old_salaries: \n",
    "    if salary < 500: \n",
    "        low_salaries.append(salary +(salary*20)/100) #append նշանակում է կցել, նոր արժեքը կցվում է հատկացված list-ին\n",
    "    elif 500<salary<1000:\n",
    "        middle_salaries.append(salary +(salary*10)/100)\n",
    "    else:\n",
    "        high_salaries.append(salary +(salary*5)/100)\n"
   ]
  }
 ],
 "metadata": {
  "kernelspec": {
   "display_name": "Python 3 (ipykernel)",
   "language": "python",
   "name": "python3"
  },
  "language_info": {
   "codemirror_mode": {
    "name": "ipython",
    "version": 3
   },
   "file_extension": ".py",
   "mimetype": "text/x-python",
   "name": "python",
   "nbconvert_exporter": "python",
   "pygments_lexer": "ipython3",
   "version": "3.9.7"
  }
 },
 "nbformat": 4,
 "nbformat_minor": 5
}
