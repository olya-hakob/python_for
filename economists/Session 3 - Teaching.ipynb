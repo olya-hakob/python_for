{
 "cells": [
  {
   "cell_type": "markdown",
   "id": "2312d302",
   "metadata": {},
   "source": [
    "Նախորդ դասերի ընթացքում ծանոթացանք որոշ տարրական ֆունկցիաների հետ, զարգացրեցինք ալգորիթմիկ մտածողությունը։ Սակայն, շատ հաճախ կարիք չի լինում ամեն ինչ զրոյից ծրագրավորելու, քանի որ մի շարք կարևոր ֆունկցիաներ արդեն իսկ հասանելի են այսպես կոչված փաթեթների միջոցով։ Այսօր կծանոթանանք երկու այդպիսի փաթեթի՝ numpy-ի և matplotlib-ի հետ։ Վերջիններս օգտագործվում են մի շարք մաթեմատիկական գործողություններ կատարելու և գրաֆիկներ ստեղծելու համար։ Սկսենք numpy-ից։\n"
   ]
  },
  {
   "cell_type": "code",
   "execution_count": 6,
   "id": "a61baeba",
   "metadata": {},
   "outputs": [],
   "source": [
    "import numpy as np # ներմուծել փաթեթն ու ընտրել-np- որպես հապավում, երբեմն կարիք է լինում փաթեթը նախապես ներբեռնել, բայց ոչ մեր դեպքում"
   ]
  },
  {
   "cell_type": "markdown",
   "id": "b6ed3b78",
   "metadata": {},
   "source": [
    "## Մաթեմատիկական հաշվարկների հեշտացում"
   ]
  },
  {
   "cell_type": "markdown",
   "id": "722f355a",
   "metadata": {},
   "source": [
    "Մինչ այժմ մեկից ավելի արժեքներ պահպանելու համար օգտագործեցինք list-եր։ Վերջիններիս խնդիրներից մեկն այն է, որ մաթեմատիկական գործողություններ կատարելու համար ստիպված էինք օգտագործել ցիկլեր, օրինակ չենք կարող մի գործողությամբ թվեր գումարել լիստի էլեմենտներին ([1,2,3,4]+1 կհանգեցնի սխալի) , իսկ երկու լիստ իրար գումարել փորձելիս ստացվում է հետևյալը ՝ "
   ]
  },
  {
   "cell_type": "code",
   "execution_count": 9,
   "id": "ae9bf2b2",
   "metadata": {},
   "outputs": [
    {
     "name": "stdout",
     "output_type": "stream",
     "text": [
      "[1, 2, 3, 4, 1, 1, 1, 1]\n"
     ]
    }
   ],
   "source": [
    "list1 = [1,2,3,4]\n",
    "list2 = [1,1,1,1]\n",
    "print(list1+list2)"
   ]
  },
  {
   "cell_type": "markdown",
   "id": "9d0c017c",
   "metadata": {},
   "source": [
    " Մեր գործը հեշտացնելու են գալիս numpy-ի array-ները։ Դիցուք,\n",
    " "
   ]
  },
  {
   "cell_type": "code",
   "execution_count": 10,
   "id": "2c2f2b6e",
   "metadata": {},
   "outputs": [
    {
     "name": "stdout",
     "output_type": "stream",
     "text": [
      "[2 3 4 5]\n"
     ]
    }
   ],
   "source": [
    "array1 = np.array(list1)\n",
    "array2 = np.array(list2)\n",
    "print(array1+array2)"
   ]
  },
  {
   "cell_type": "code",
   "execution_count": 29,
   "id": "c93825ee",
   "metadata": {},
   "outputs": [
    {
     "name": "stdout",
     "output_type": "stream",
     "text": [
      "[1. 1.]\n",
      "[0. 0.]\n",
      "[2 4 6 8]\n",
      "[ 0.   2.5  5.   7.5 10. ]\n"
     ]
    }
   ],
   "source": [
    "print(np.ones(2))\n",
    "print(np.zeros(2))\n",
    "print(np.arange(2,10,2))\n",
    "print(np.linspace(0,10,5))"
   ]
  },
  {
   "cell_type": "markdown",
   "id": "17b8c0ad",
   "metadata": {},
   "source": [
    "Կարող ենք նաև գործողություններ կատարել՝ առանց փոփոխականների տեսակը փոխելու՝"
   ]
  },
  {
   "cell_type": "code",
   "execution_count": 14,
   "id": "510f74c6",
   "metadata": {},
   "outputs": [
    {
     "name": "stdout",
     "output_type": "stream",
     "text": [
      "[2 3 4 5]\n",
      "[2 3 4 5]\n"
     ]
    }
   ],
   "source": [
    "print(np.add(list1,list2))\n",
    "print(np.add(list1,1)) # np.multiply, np.divide, np.subtract\n"
   ]
  },
  {
   "cell_type": "markdown",
   "id": "8b74b799",
   "metadata": {},
   "source": [
    "array-ների ինդեքսավորումը կատարվում է նույն կերպ ինչ լիստերի դեպքում՝"
   ]
  },
  {
   "cell_type": "code",
   "execution_count": 15,
   "id": "5fbf4efd",
   "metadata": {},
   "outputs": [
    {
     "name": "stdout",
     "output_type": "stream",
     "text": [
      "2\n",
      "4\n",
      "[2 3]\n"
     ]
    }
   ],
   "source": [
    "print(array1[1])\n",
    "print(array1[-1])\n",
    "print(array1[1:3])"
   ]
  },
  {
   "cell_type": "markdown",
   "id": "7de137dc",
   "metadata": {},
   "source": [
    "## Տվյալների պահպանում ու ներբեռնում\n",
    "\n",
    "Մեծ քանակի տվյալների հետ աշխատելու կան ավելի հարմար տարբերակներ, ինչպես օրինակ pandas փաթեթը, սակայն ավելի հեշտ է սկսել numpy array-ներից։ Օրինակ, աշխատավարձերի տվյալները կարող ենք պահպանել հատուկ ֆայլում ամեն անգամ թվերը չմուտքագրելու համար՝ "
   ]
  },
  {
   "cell_type": "code",
   "execution_count": 21,
   "id": "86d4b0a1",
   "metadata": {},
   "outputs": [
    {
     "name": "stdout",
     "output_type": "stream",
     "text": [
      "[ 100  120  140  150  160  500  900 1500]\n",
      "<class 'numpy.ndarray'>\n"
     ]
    }
   ],
   "source": [
    "old_salaries = [100,120,140,150,160,500,900,1500]\n",
    "np.save('old_salaries.npy',old_salaries)\n",
    " \n",
    "load = np.load('old_salaries.npy')\n",
    "print(load)\n",
    "print(type(load))"
   ]
  },
  {
   "cell_type": "markdown",
   "id": "26d19ab4",
   "metadata": {},
   "source": [
    "Տվյալներ պահպանելիս ու ներբեռնելիս կարևոր է ուշադրություն դարձնել, թե որտեղ են ֆայերը։ Օրինակ, վերևում նշված կոդի դեպքում ֆայլը պահպանվում է այնտեղ, որտեղ գտնվում է կոդի ֆայլը։ Եթե ուզում եք դա փոխել, պետք է համապատասխան փոփոխության ենթարկել path-ը։ Օրինակ՝ "
   ]
  },
  {
   "cell_type": "code",
   "execution_count": 30,
   "id": "d61be3a8",
   "metadata": {},
   "outputs": [],
   "source": [
    "np.save('../old_salaries.npy',old_salaries) # կոդը պահպանվում է մի թղթապանակ «վերև»"
   ]
  },
  {
   "cell_type": "markdown",
   "id": "ef5b5774",
   "metadata": {},
   "source": [
    "## Մաթեմատիկական գործողություններ՝ մեկ հրամանով"
   ]
  },
  {
   "cell_type": "markdown",
   "id": "64e1436f",
   "metadata": {},
   "source": [
    "Նախորդ դասին գրեցինք մեր սեփական ֆունկցիաներն օրինակ միջին ու մեդիան հաշվելու համար։ Սա ուներ ուսուցողական նպատակ, իսկ առօրյայում կարող ենք օգտագործել պատրաստի ֆունկցիաներ numpy-ից՝\n"
   ]
  },
  {
   "cell_type": "code",
   "execution_count": 31,
   "id": "7abfe195",
   "metadata": {},
   "outputs": [
    {
     "name": "stdout",
     "output_type": "stream",
     "text": [
      "2.5\n",
      "2.5\n"
     ]
    }
   ],
   "source": [
    "print(np.mean(list1))\n",
    "print(np.median(list1))"
   ]
  },
  {
   "cell_type": "markdown",
   "id": "3b3e3ed7",
   "metadata": {},
   "source": [
    "## Demo"
   ]
  },
  {
   "cell_type": "code",
   "execution_count": 36,
   "id": "7f2aa870",
   "metadata": {},
   "outputs": [
    {
     "name": "stdout",
     "output_type": "stream",
     "text": [
      "[ 110.  132.  154.  165.  176.  550.  990. 1650.]\n",
      "490.875\n",
      "170.5\n"
     ]
    }
   ],
   "source": [
    "old_salaries = np.asarray(old_salaries)\n",
    "new_salaries = old_salaries+old_salaries*10/100\n",
    "print(new_salaries)\n",
    "print(np.mean(new_salaries))\n",
    "print(np.median(new_salaries))"
   ]
  },
  {
   "cell_type": "markdown",
   "id": "18391660",
   "metadata": {},
   "source": [
    "## Առաջադրանքներ"
   ]
  },
  {
   "cell_type": "code",
   "execution_count": 38,
   "id": "7559e43e",
   "metadata": {},
   "outputs": [
    {
     "data": {
      "text/plain": [
       "array([0.05748823, 0.49168309, 0.0557924 , 0.09875214, 0.54122197,\n",
       "       0.42825046, 0.97265572, 0.75915354, 0.71643667, 0.01956099])"
      ]
     },
     "execution_count": 38,
     "metadata": {},
     "output_type": "execute_result"
    }
   ],
   "source": [
    "np.random.random(10)"
   ]
  },
  {
   "cell_type": "code",
   "execution_count": 54,
   "id": "b0319d89",
   "metadata": {},
   "outputs": [],
   "source": [
    "means = []\n",
    "for i in range(100):\n",
    "    means.append(np.mean(np.random.random(10)))"
   ]
  },
  {
   "cell_type": "code",
   "execution_count": 55,
   "id": "84e059a8",
   "metadata": {},
   "outputs": [
    {
     "data": {
      "text/plain": [
       "(array([ 6.,  8., 13., 19., 19., 11., 12.,  5.,  6.,  1.]),\n",
       " array([0.31307401, 0.35463393, 0.39619385, 0.43775377, 0.4793137 ,\n",
       "        0.52087362, 0.56243354, 0.60399346, 0.64555338, 0.68711331,\n",
       "        0.72867323]),\n",
       " <BarContainer object of 10 artists>)"
      ]
     },
     "execution_count": 55,
     "metadata": {},
     "output_type": "execute_result"
    },
    {
     "data": {
      "image/png": "[encoded data removed]",
      "text/plain": [
       "<Figure size 432x288 with 1 Axes>"
      ]
     },
     "metadata": {
      "needs_background": "light"
     },
     "output_type": "display_data"
    }
   ],
   "source": [
    "import matplotlib.pyplot as plt\n",
    "plt.hist(means)"
   ]
  },
  {
   "cell_type": "code",
   "execution_count": null,
   "id": "50543ca6",
   "metadata": {},
   "outputs": [],
   "source": []
  }
 ],
 "metadata": {
  "kernelspec": {
   "display_name": "Python 3 (ipykernel)",
   "language": "python",
   "name": "python3"
  },
  "language_info": {
   "codemirror_mode": {
    "name": "ipython",
    "version": 3
   },
   "file_extension": ".py",
   "mimetype": "text/x-python",
   "name": "python",
   "nbconvert_exporter": "python",
   "pygments_lexer": "ipython3",
   "version": "3.9.7"
  }
 },
 "nbformat": 4,
 "nbformat_minor": 5
}
