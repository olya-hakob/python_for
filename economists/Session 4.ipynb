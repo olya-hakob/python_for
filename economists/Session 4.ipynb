{
 "cells": [
  {
   "cell_type": "code",
   "execution_count": 1,
   "id": "9e9df47c",
   "metadata": {},
   "outputs": [
    {
     "data": {
      "text/plain": [
       "[<matplotlib.lines.Line2D at 0x7f11f00cd2b0>]"
      ]
     },
     "execution_count": 1,
     "metadata": {},
     "output_type": "execute_result"
    },
    {
     "data": {
      "image/png": "[encoded data removed]",
      "text/plain": [
       "<Figure size 432x288 with 1 Axes>"
      ]
     },
     "metadata": {
      "needs_background": "light"
     },
     "output_type": "display_data"
    }
   ],
   "source": [
    "import matplotlib.pyplot as plt\n",
    "import numpy as np\n",
    "old_salaries = [100,100,110,120,125,135,140,150,160,500,1500,1500]\n",
    "plt.plot(old_salaries,'o')\n",
    "plt.plot([0,len(old_salaries)],[np.mean(old_salaries)]*2,'k--')\n",
    "plt.plot([0,len(old_salaries)],[np.median(old_salaries)]*2,'g--')"
   ]
  },
  {
   "cell_type": "code",
   "execution_count": 8,
   "id": "375e272d",
   "metadata": {},
   "outputs": [],
   "source": [
    "means = []\n",
    "for i in range(1000):\n",
    "    means.append(np.mean(np.random.uniform(10)))"
   ]
  },
  {
   "cell_type": "code",
   "execution_count": 11,
   "id": "307233cd",
   "metadata": {},
   "outputs": [
    {
     "data": {
      "text/plain": [
       "73.35011221056209"
      ]
     },
     "execution_count": 11,
     "metadata": {},
     "output_type": "execute_result"
    }
   ],
   "source": [
    "np.random.uniform(10)"
   ]
  },
  {
   "cell_type": "code",
   "execution_count": 9,
   "id": "bb8bdb91",
   "metadata": {},
   "outputs": [
    {
     "data": {
      "text/plain": [
       "(array([ 9904., 10121., 10065., 10039.,  9882., 10084., 10051.,  9960.,\n",
       "         9885., 10009.]),\n",
       " array([1.00001302, 1.90001134, 2.80000967, 3.700008  , 4.60000633,\n",
       "        5.50000466, 6.40000299, 7.30000132, 8.19999965, 9.09999798,\n",
       "        9.9999963 ]),\n",
       " <BarContainer object of 10 artists>)"
      ]
     },
     "execution_count": 9,
     "metadata": {},
     "output_type": "execute_result"
    },
    {
     "data": {
      "image/png": "[encoded data removed]",
      "text/plain": [
       "<Figure size 432x288 with 1 Axes>"
      ]
     },
     "metadata": {
      "needs_background": "light"
     },
     "output_type": "display_data"
    }
   ],
   "source": [
    "import matplotlib.pyplot as plt\n",
    "plt.hist(means)"
   ]
  },
  {
   "cell_type": "code",
   "execution_count": null,
   "id": "f538d548",
   "metadata": {},
   "outputs": [],
   "source": []
  }
 ],
 "metadata": {
  "kernelspec": {
   "display_name": "Python 3 (ipykernel)",
   "language": "python",
   "name": "python3"
  },
  "language_info": {
   "codemirror_mode": {
    "name": "ipython",
    "version": 3
   },
   "file_extension": ".py",
   "mimetype": "text/x-python",
   "name": "python",
   "nbconvert_exporter": "python",
   "pygments_lexer": "ipython3",
   "version": "3.9.7"
  }
 },
 "nbformat": 4,
 "nbformat_minor": 5
}
