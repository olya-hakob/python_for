{
 "cells": [
  {
   "cell_type": "code",
   "execution_count": null,
   "id": "9e9df47c",
   "metadata": {},
   "outputs": [],
   "source": [
    "import matplotlib.pyplot as plt\n",
    "import numpy as np\n",
    "old_salaries = [100,100,110,120,125,135,140,150,160,500,1500,1500]\n",
    "plt.plot(old_salaries,'o')\n",
    "plt.plot([0,len(old_salaries)],[np.mean(old_salaries)]*2,'k--')\n",
    "plt.plot([0,len(old_salaries)],[np.median(old_salaries)]*2,'g--')"
   ]
  },
  {
   "cell_type": "code",
   "execution_count": 13,
   "id": "1d6c5a76",
   "metadata": {},
   "outputs": [],
   "source": [
    "means = []\n",
    "for i in range(100):\n",
    "    means.append(np.mean(np.random.random(size=10)))"
   ]
  },
  {
   "cell_type": "code",
   "execution_count": 14,
   "id": "acd50d95",
   "metadata": {},
   "outputs": [
    {
     "data": {
      "text/plain": [
       "array([0.0286737 , 0.91768931, 0.31499159, 0.22574408, 0.87784558,\n",
       "       0.13266479, 0.08423332, 0.52004939, 0.23388074, 0.62367445])"
      ]
     },
     "execution_count": 14,
     "metadata": {},
     "output_type": "execute_result"
    }
   ],
   "source": [
    "np.random.uniform(size=10)"
   ]
  },
  {
   "cell_type": "code",
   "execution_count": 15,
   "id": "280cfc62",
   "metadata": {},
   "outputs": [
    {
     "data": {
      "text/plain": [
       "(array([ 4., 10., 16., 27., 18., 11., 12.,  1.,  0.,  1.]),\n",
       " array([0.29448627, 0.34575079, 0.39701531, 0.44827982, 0.49954434,\n",
       "        0.55080885, 0.60207337, 0.65333789, 0.7046024 , 0.75586692,\n",
       "        0.80713144]),\n",
       " <BarContainer object of 10 artists>)"
      ]
     },
     "execution_count": 15,
     "metadata": {},
     "output_type": "execute_result"
    },
    {
     "data": {
      "image/png": "[encoded data removed]",
      "text/plain": [
       "<Figure size 432x288 with 1 Axes>"
      ]
     },
     "metadata": {
      "needs_background": "light"
     },
     "output_type": "display_data"
    }
   ],
   "source": [
    "import matplotlib.pyplot as plt\n",
    "plt.hist(means)"
   ]
  },
  {
   "cell_type": "code",
   "execution_count": null,
   "id": "8d041ad5",
   "metadata": {},
   "outputs": [],
   "source": []
  }
 ],
 "metadata": {
  "kernelspec": {
   "display_name": "Python 3 (ipykernel)",
   "language": "python",
   "name": "python3"
  },
  "language_info": {
   "codemirror_mode": {
    "name": "ipython",
    "version": 3
   },
   "file_extension": ".py",
   "mimetype": "text/x-python",
   "name": "python",
   "nbconvert_exporter": "python",
   "pygments_lexer": "ipython3",
   "version": "3.9.7"
  }
 },
 "nbformat": 4,
 "nbformat_minor": 5
}
