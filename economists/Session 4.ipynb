{
 "cells": [
  {
   "cell_type": "code",
   "execution_count": null,
   "id": "9e9df47c",
   "metadata": {},
   "outputs": [],
   "source": [
    "import matplotlib.pyplot as plt\n",
    "import numpy as np\n",
    "old_salaries = [100,100,110,120,125,135,140,150,160,500,1500,1500]\n",
    "plt.plot(old_salaries,'o')\n",
    "plt.plot([0,len(old_salaries)],[np.mean(old_salaries)]*2,'k--')\n",
    "plt.plot([0,len(old_salaries)],[np.median(old_salaries)]*2,'g--')"
   ]
  }
 ],
 "metadata": {
  "kernelspec": {
   "display_name": "Python 3 (ipykernel)",
   "language": "python",
   "name": "python3"
  },
  "language_info": {
   "codemirror_mode": {
    "name": "ipython",
    "version": 3
   },
   "file_extension": ".py",
   "mimetype": "text/x-python",
   "name": "python",
   "nbconvert_exporter": "python",
   "pygments_lexer": "ipython3",
   "version": "3.9.7"
  }
 },
 "nbformat": 4,
 "nbformat_minor": 5
}
